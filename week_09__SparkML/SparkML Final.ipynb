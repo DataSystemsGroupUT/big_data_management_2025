{
 "cells": [
  {
   "cell_type": "markdown",
   "id": "7bf2792a",
   "metadata": {},
   "source": [
    "# Week 8: Scalable Machine Learning with Spark MLlib\n",
    "\n",
    "**Course:** Big Data Management (Master's Level)\n",
    "\n",
    "**Author:** Ahmed Soliman\n",
    "\n",
    "**Objective:** This lab introduces Spark's MLlib library for building and evaluating machine learning models on large datasets. We will focus on constructing ML pipelines, feature engineering, model training, and hyperparameter tuning within the Spark ecosystem."
   ]
  },
  {
   "cell_type": "markdown",
   "id": "6d4a76be",
   "metadata": {},
   "source": [
    "<style>\n",
    "h1 {\n",
    "    color: #0D47A1; /* Dark Blue color for H1 */\n",
    "    border-bottom: 2px solid #0D47A1;\n",
    "}\n",
    ".toc {\n",
    "    border: 1px solid #ccc;\n",
    "    padding: 15px;\n",
    "    margin-bottom: 20px;\n",
    "    background-color: #f9f9f9;\n",
    "    border-radius: 5px;\n",
    "}\n",
    ".toc h2 {\n",
    "    margin-top: 0;\n",
    "    border-bottom: none;\n",
    "    color: #333;\n",
    "}\n",
    ".toc ul {\n",
    "    list-style-type: none;\n",
    "    padding-left: 0;\n",
    "}\n",
    ".toc li {\n",
    "    margin-bottom: 5px;\n",
    "}\n",
    ".toc li a {\n",
    "    text-decoration: none;\n",
    "    color: #1976D2; /* Link color */\n",
    "}\n",
    ".toc li a:hover {\n",
    "    text-decoration: underline;\n",
    "}\n",
    "</style>"
   ]
  },
  {
   "cell_type": "markdown",
   "id": "068e86e6",
   "metadata": {},
   "source": [
    "<div class=\"toc\">\n",
    "<h2>Table of Contents</h2>\n",
    "<ul>\n",
    "<li><a href=\"#lab-goals\">Lab Goals</a></li>\n",
    "<li><a href=\"#core-concepts\">Core Concepts in SparkML Pipelines</a></li>\n",
    "<li><a href=\"#setup\">Setup: Initializing Spark Session</a></li>\n",
    "<li><a href=\"#task-1\">Task 1: Data Loading and Initial Exploration</a>\n",
    "  <ul>\n",
    "    <li><a href=\"#load-data\">1.1 Load Data</a></li>\n",
    "    <li><a href=\"#clean-columns\">1.2 Data Cleaning: Column Names</a></li>\n",
    "    <li><a href=\"#infer-schema\">1.3 Infer Schema and Inspect Data Types</a></li>\n",
    "    <li><a href=\"#explore-data\">1.4 Initial Data Exploration</a></li>\n",
    "    <li><a href=\"#summary-stats\">1.5 Summary Statistics</a></li>\n",
    "    <li><a href=\"#categorical-analysis\">1.6 Categorical Feature Analysis</a></li>\n",
    "    <li><a href=\"#missing-values\">1.7 Check for Missing Values</a></li>\n",
    "    <li><a href=\"#visualization\">1.8 Data Visualization (Optional)</a></li>\n",
    "  </ul>\n",
    "</li>\n",
    "<li><a href=\"#task-2\">Task 2: Feature Engineering and Pipeline Construction</a>\n",
    "  <ul>\n",
    "    <li><a href=\"#feature-engineering-age\">2.1 Feature Engineering: Adding `age_square`</a></li>\n",
    "    <li><a href=\"#pipeline-stages-def\">2.2 Defining Pipeline Stages</a></li>\n",
    "       <ul>\n",
    "           <li><a href=\"#stage-cat\">2.2.1 Categorical Feature Processing (Indexing & Encoding)</a></li>\n",
    "           <li><a href=\"#stage-label\">2.2.2 Label Indexing</a></li>\n",
    "           <li><a href=\"#stage-assemble\">2.2.3 Feature Assembling</a></li>\n",
    "       </ul>\n",
    "    <li><a href=\"#pipeline-apply\">2.3 Apply the Preprocessing Pipeline</a></li>\n",
    "  </ul>\n",
    "</li>\n",
    "<li><a href=\"#task-3\">Task 3: Model Training and Evaluation</a>\n",
    "  <ul>\n",
    "    <li><a href=\"#split-data\">3.1 Split Data</a></li>\n",
    "    <li><a href=\"#train-initial\">3.2 Train Initial Logistic Regression Model</a></li>\n",
    "    <li><a href=\"#predict-initial\">3.3 Make Predictions with Initial Model</a></li>\n",
    "    <li><a href=\"#eval-initial\">3.4 Evaluate Initial Model</a></li>\n",
    "  </ul>\n",
    "</li>\n",
    "<li><a href=\"#task-4\">Task 4: Hyperparameter Tuning with Cross-Validation</a>\n",
    "  <ul>\n",
    "    <li><a href=\"#param-grid\">4.1 Define Parameter Grid</a></li>\n",
    "    <li><a href=\"#cross-validator\">4.2 Set up and Run Cross-Validator</a></li>\n",
    "    <li><a href=\"#eval-best\">4.3 Evaluate the Best Model from CV</a></li>\n",
    "  </ul>\n",
    "</li>\n",
    "<li><a href=\"#task-5\">Task 5: Model Persistence</a></li>\n",
    "<li><a href=\"#task-6\">Task 6: Hands-on Challenge</a></li>\n",
    "<li><a href=\"#conclusion\">Lab Conclusion</a></li>\n",
    "</ul>\n",
    "</div>"
   ]
  },
  {
   "cell_type": "markdown",
   "id": "e1bc7d22",
   "metadata": {},
   "source": [
    "<a id='lab-goals'></a>\\n<a id='lab-goals'></a>\n",
    "## Lab Goals\n",
    "\n",
    "Upon completion of this lab, you should be able to:\n",
    "\n",
    "* Gain practical experience with the SparkML DataFrame-based API.\n",
    "* Understand the core concepts of SparkML Pipelines: `DataFrame`, `Transformer`, `Estimator`, `Pipeline`, and `Parameter`.\n",
    "* Implement data preprocessing and feature engineering steps within a SparkML pipeline.\n",
    "* Build, train, and evaluate a Logistic Regression classification model.\n",
    "* Perform hyperparameter tuning using `ParamGridBuilder` and `CrossValidator`.\n",
    "* Understand model persistence for saving and loading SparkML models and pipelines.\n",
    "\n",
    "**Reference:** [Official Spark MLlib Programming Guide](https://spark.apache.org/docs/latest/ml-guide.html)"
   ]
  },
  {
   "cell_type": "markdown",
   "id": "0dabd5f1",
   "metadata": {},
   "source": [
    "<a id='core-concepts-in-sparkml-pipelines'></a>\\n<a id='core-concepts'></a>\n",
    "## Core Concepts in SparkML Pipelines\n",
    "\n",
    "Spark MLlib provides a unified set of high-level APIs built on top of DataFrames that helps users create and tune practical machine learning pipelines. Key concepts include:\n",
    "\n",
    "* **`DataFrame`**: The primary data structure used in SparkML. It's equivalent to a table in a relational database or a data frame in R/Python, but distributed across a cluster. DataFrames can hold various data types (text, features, labels, predictions).\n",
    "\n",
    "* **`Transformer`**: An algorithm that transforms one `DataFrame` into another. Examples include feature transformers (like `StringIndexer`, `OneHotEncoder`, `VectorAssembler`) which modify columns, and trained models which add prediction columns.\n",
    "\n",
    "* **`Estimator`**: An algorithm that learns from data (a `DataFrame`) to produce a `Transformer`. It implements a `fit()` method. For example, `LogisticRegression` is an `Estimator` that, when `fit()`, produces a `LogisticRegressionModel`, which is a `Transformer`.\n",
    "\n",
    "* **`Pipeline`**: Chains multiple `Transformer`s and `Estimator`s together into a single workflow. This helps manage the sequence of data processing and modeling steps.\n",
    "\n",
    "* **`Parameter`**: `Transformer`s and `Estimator`s share a common API for specifying parameters (e.g., `regParam` for regularization in `LogisticRegression`). This allows for standardized configuration and tuning."
   ]
  },
  {
   "cell_type": "markdown",
   "id": "85fde08a",
   "metadata": {},
   "source": [
    "<a id='setup-initializing-spark-session'></a>\\n<a id='setup'></a>\n",
    "## Setup: Initializing Spark Session\n",
    "\n",
    "First, we need to initialize a `SparkSession`, which is the entry point for programming Spark with the DataFrame API."
   ]
  },
  {
   "cell_type": "code",
   "execution_count": 30,
   "id": "e7cbf71d",
   "metadata": {},
   "outputs": [
    {
     "name": "stdout",
     "output_type": "stream",
     "text": [
      "Spark Session Initialized. Spark version: 3.5.3\n"
     ]
    }
   ],
   "source": [
    "# Import necessary libraries\n",
    "from pyspark.sql import SparkSession\n",
    "from pyspark.sql import functions as F # Import functions with an alias for clarity\n",
    "import warnings\n",
    "\n",
    "# Suppress specific warnings if needed (optional)\n",
    "# warnings.filterwarnings(\"ignore\", category=FutureWarning, module=\"pyspark.sql.pandas.conversion\")\n",
    "\n",
    "# Create or get a SparkSession\n",
    "spark = SparkSession.builder \\\n",
    "    .appName(\"SparkML Lab - Enhanced\") \\\n",
    "    .config(\"spark.executor.memory\", \"2g\") \\\n",
    "    .config(\"spark.driver.memory\", \"1g\") \\\n",
    "    .getOrCreate()\n",
    "\n",
    "# Enable Arrow-based columnar data transfers (improves Spark -> Pandas conversion performance)\n",
    "spark.conf.set(\"spark.sql.execution.arrow.pyspark.enabled\", \"true\")\n",
    "\n",
    "# Optional: Enable eager evaluation for better interactive display in notebooks\n",
    "# spark.conf.set(\"spark.sql.repl.eagerEval.enabled\", True)\n",
    "\n",
    "sqlContext = spark # Use spark variable directly, sqlContext is legacy\n",
    "\n",
    "print(f\"Spark Session Initialized. Spark version: {spark.version}\")"
   ]
  },
  {
   "cell_type": "markdown",
   "id": "2fe8bfc9",
   "metadata": {},
   "source": [
    "<a id='task-1-data-loading-and-initial-exploration'></a>\\n<a id='task-1'></a>\n",
    "## Task 1: Data Loading and Initial Exploration\n",
    "\n",
    "We will use the 'Adult' dataset from the UCI Machine Learning Repository. This dataset contains census information and is commonly used for predicting whether an individual's income exceeds $50K/year.\n",
    "\n",
    "**Dataset:** [Adult Data Set](https://archive.ics.uci.edu/ml/datasets/Adult)"
   ]
  },
  {
   "cell_type": "markdown",
   "id": "9cefc977",
   "metadata": {},
   "source": [
    "<a id='11-load-data'></a>\\n<a id='load-data'></a>\n",
    "### 1.1 Load Data\n",
    "\n",
    "Load the data from the provided CSV file. We'll initially let Spark load everything as strings and then infer the schema."
   ]
  },
  {
   "cell_type": "code",
   "execution_count": 31,
   "id": "7b8a7789",
   "metadata": {},
   "outputs": [
    {
     "name": "stdout",
     "output_type": "stream",
     "text": [
      "Original Column Names:\n",
      "['age', 'workclass', 'fnlwgt', 'education', 'education-num', 'maritial-status', 'occupation', 'relationship', 'race', 'sex', 'capital-gain', 'capital-loss', 'hours-per-week', 'native-country', 'category']\n"
     ]
    }
   ],
   "source": [
    "# Define the path to the data\n",
    "# Make sure the 'lab_data/adult.data' file is accessible in your Spark environment\n",
    "data_path = \"./lab_data/adult.data\"\n",
    "\n",
    "# Load data initially as strings to inspect headers\n",
    "df_string = spark.read.format(\"csv\") \\\n",
    "    .option(\"header\", \"true\") \\\n",
    "    .option(\"inferSchema\", \"false\") \\\n",
    "    .option(\"ignoreLeadingWhiteSpace\", \"true\") \\\n",
    "    .option(\"ignoreTrailingWhiteSpace\", \"true\") \\\n",
    "    .load(data_path)\n",
    "\n",
    "# Inspect column names - they might have leading/trailing spaces or hyphens\n",
    "print(\"Original Column Names:\")\n",
    "print(df_string.columns)"
   ]
  },
  {
   "cell_type": "markdown",
   "id": "facf07ef",
   "metadata": {},
   "source": [
    "<a id='12-data-cleaning-column-names'></a>\\n<a id='clean-columns'></a>\n",
    "### 1.2 Data Cleaning: Column Names\n",
    "\n",
    "The column names might contain characters like spaces or hyphens that are inconvenient for Spark SQL operations. Let's clean them up."
   ]
  },
  {
   "cell_type": "code",
   "execution_count": 32,
   "id": "285cf615",
   "metadata": {},
   "outputs": [
    {
     "name": "stdout",
     "output_type": "stream",
     "text": [
      "Cleaned Column Names:\n",
      "['age', 'workclass', 'fnlwgt', 'education', 'education_num', 'maritial_status', 'occupation', 'relationship', 'race', 'sex', 'capital_gain', 'capital_loss', 'hours_per_week', 'native_country', 'category']\n"
     ]
    }
   ],
   "source": [
    "# Clean column names: remove spaces, replace hyphens with underscores\n",
    "clean_columns = [col.strip().replace('-', '_') for col in df_string.columns]\n",
    "\n",
    "# Apply new column names\n",
    "df_renamed = df_string.toDF(*clean_columns)\n",
    "\n",
    "print(\"Cleaned Column Names:\")\n",
    "print(df_renamed.columns)"
   ]
  },
  {
   "cell_type": "markdown",
   "id": "8f7e6239",
   "metadata": {},
   "source": [
    "<a id='13-infer-schema-and-inspect-data-types'></a>\\n<a id='infer-schema'></a>\n",
    "### 1.3 Infer Schema and Inspect Data Types\n",
    "\n",
    "Now, load the data again, this time inferring the schema and using the cleaned column names."
   ]
  },
  {
   "cell_type": "code",
   "execution_count": 33,
   "id": "aa9573fe",
   "metadata": {},
   "outputs": [
    {
     "name": "stdout",
     "output_type": "stream",
     "text": [
      "DataFrame Schema:\n",
      "root\n",
      " |-- age: integer (nullable = true)\n",
      " |-- workclass: string (nullable = true)\n",
      " |-- fnlwgt: integer (nullable = true)\n",
      " |-- education: string (nullable = true)\n",
      " |-- education_num: integer (nullable = true)\n",
      " |-- marital_status: string (nullable = true)\n",
      " |-- occupation: string (nullable = true)\n",
      " |-- relationship: string (nullable = true)\n",
      " |-- race: string (nullable = true)\n",
      " |-- sex: string (nullable = true)\n",
      " |-- capital_gain: integer (nullable = true)\n",
      " |-- capital_loss: integer (nullable = true)\n",
      " |-- hours_per_week: integer (nullable = true)\n",
      " |-- native_country: string (nullable = true)\n",
      " |-- category: string (nullable = true)\n",
      "\n",
      "\n",
      "Number of records: 32561\n"
     ]
    }
   ],
   "source": [
    "# Define schema based on cleaned names for explicit loading (alternative to inferSchema)\n",
    "# This provides more control and avoids an extra Spark job for inference.\n",
    "# Based on adult.names file and observation:\n",
    "from pyspark.sql.types import StructType, StructField, IntegerType, StringType, DoubleType\n",
    "\n",
    "schema = StructType([\n",
    "    StructField(\"age\", IntegerType(), True),\n",
    "    StructField(\"workclass\", StringType(), True),\n",
    "    StructField(\"fnlwgt\", IntegerType(), True), # Final weight\n",
    "    StructField(\"education\", StringType(), True),\n",
    "    StructField(\"education_num\", IntegerType(), True),\n",
    "    StructField(\"marital_status\", StringType(), True),\n",
    "    StructField(\"occupation\", StringType(), True),\n",
    "    StructField(\"relationship\", StringType(), True),\n",
    "    StructField(\"race\", StringType(), True),\n",
    "    StructField(\"sex\", StringType(), True),\n",
    "    StructField(\"capital_gain\", IntegerType(), True),\n",
    "    StructField(\"capital_loss\", IntegerType(), True),\n",
    "    StructField(\"hours_per_week\", IntegerType(), True),\n",
    "    StructField(\"native_country\", StringType(), True),\n",
    "    StructField(\"category\", StringType(), True) # Target variable: <=50K or >50K\n",
    "])\n",
    "\n",
    "# Load data with the explicit schema and cleaned names\n",
    "df = spark.read.format(\"csv\") \\\n",
    "    .option(\"header\", \"true\") \\\n",
    "    .option(\"ignoreLeadingWhiteSpace\", \"true\") \\\n",
    "    .option(\"ignoreTrailingWhiteSpace\", \"true\") \\\n",
    "    .schema(schema) \\\n",
    "    .load(data_path)\n",
    "\n",
    "# Rename columns after loading (if header=false used)\n",
    "# df = df.toDF(*clean_columns) # This is redundant if schema is used with correct names\n",
    "\n",
    "# Print the schema to verify data types\n",
    "print(\"DataFrame Schema:\")\n",
    "df.printSchema()\n",
    "\n",
    "# Cache the DataFrame for faster access in subsequent operations\n",
    "df.cache()\n",
    "\n",
    "print(f\"\\nNumber of records: {df.count()}\")"
   ]
  },
  {
   "cell_type": "markdown",
   "id": "7c139f11",
   "metadata": {},
   "source": [
    "<a id='14-initial-data-exploration'></a>\\n<a id='explore-data'></a>\n",
    "### 1.4 Initial Data Exploration\n",
    "\n",
    "Let's explore the data with some basic operations."
   ]
  },
  {
   "cell_type": "code",
   "execution_count": 34,
   "id": "f00f722a",
   "metadata": {},
   "outputs": [
    {
     "name": "stdout",
     "output_type": "stream",
     "text": [
      "First 5 rows (vertical view):\n"
     ]
    },
    {
     "data": {
      "text/plain": [
       "DataFrame[age: int, workclass: string, fnlwgt: int, education: string, education_num: int, marital_status: string, occupation: string, relationship: string, race: string, sex: string, capital_gain: int, capital_loss: int, hours_per_week: int, native_country: string, category: string]"
      ]
     },
     "metadata": {},
     "output_type": "display_data"
    },
    {
     "name": "stdout",
     "output_type": "stream",
     "text": [
      "\n",
      "First 5 rows (Pandas view):\n"
     ]
    },
    {
     "data": {
      "text/html": [
       "<div>\n",
       "<style scoped>\n",
       "    .dataframe tbody tr th:only-of-type {\n",
       "        vertical-align: middle;\n",
       "    }\n",
       "\n",
       "    .dataframe tbody tr th {\n",
       "        vertical-align: top;\n",
       "    }\n",
       "\n",
       "    .dataframe thead th {\n",
       "        text-align: right;\n",
       "    }\n",
       "</style>\n",
       "<table border=\"1\" class=\"dataframe\">\n",
       "  <thead>\n",
       "    <tr style=\"text-align: right;\">\n",
       "      <th></th>\n",
       "      <th>age</th>\n",
       "      <th>workclass</th>\n",
       "      <th>fnlwgt</th>\n",
       "      <th>education</th>\n",
       "      <th>education_num</th>\n",
       "      <th>marital_status</th>\n",
       "      <th>occupation</th>\n",
       "      <th>relationship</th>\n",
       "      <th>race</th>\n",
       "      <th>sex</th>\n",
       "      <th>capital_gain</th>\n",
       "      <th>capital_loss</th>\n",
       "      <th>hours_per_week</th>\n",
       "      <th>native_country</th>\n",
       "      <th>category</th>\n",
       "    </tr>\n",
       "  </thead>\n",
       "  <tbody>\n",
       "    <tr>\n",
       "      <th>0</th>\n",
       "      <td>39</td>\n",
       "      <td>State-gov</td>\n",
       "      <td>77516</td>\n",
       "      <td>Bachelors</td>\n",
       "      <td>13</td>\n",
       "      <td>Never-married</td>\n",
       "      <td>Adm-clerical</td>\n",
       "      <td>Not-in-family</td>\n",
       "      <td>White</td>\n",
       "      <td>Male</td>\n",
       "      <td>2174</td>\n",
       "      <td>0</td>\n",
       "      <td>40</td>\n",
       "      <td>United-States</td>\n",
       "      <td>&lt;=50K</td>\n",
       "    </tr>\n",
       "    <tr>\n",
       "      <th>1</th>\n",
       "      <td>50</td>\n",
       "      <td>Self-emp-not-inc</td>\n",
       "      <td>83311</td>\n",
       "      <td>Bachelors</td>\n",
       "      <td>13</td>\n",
       "      <td>Married-civ-spouse</td>\n",
       "      <td>Exec-managerial</td>\n",
       "      <td>Husband</td>\n",
       "      <td>White</td>\n",
       "      <td>Male</td>\n",
       "      <td>0</td>\n",
       "      <td>0</td>\n",
       "      <td>13</td>\n",
       "      <td>United-States</td>\n",
       "      <td>&lt;=50K</td>\n",
       "    </tr>\n",
       "    <tr>\n",
       "      <th>2</th>\n",
       "      <td>38</td>\n",
       "      <td>Private</td>\n",
       "      <td>215646</td>\n",
       "      <td>HS-grad</td>\n",
       "      <td>9</td>\n",
       "      <td>Divorced</td>\n",
       "      <td>Handlers-cleaners</td>\n",
       "      <td>Not-in-family</td>\n",
       "      <td>White</td>\n",
       "      <td>Male</td>\n",
       "      <td>0</td>\n",
       "      <td>0</td>\n",
       "      <td>40</td>\n",
       "      <td>United-States</td>\n",
       "      <td>&lt;=50K</td>\n",
       "    </tr>\n",
       "    <tr>\n",
       "      <th>3</th>\n",
       "      <td>53</td>\n",
       "      <td>Private</td>\n",
       "      <td>234721</td>\n",
       "      <td>11th</td>\n",
       "      <td>7</td>\n",
       "      <td>Married-civ-spouse</td>\n",
       "      <td>Handlers-cleaners</td>\n",
       "      <td>Husband</td>\n",
       "      <td>Black</td>\n",
       "      <td>Male</td>\n",
       "      <td>0</td>\n",
       "      <td>0</td>\n",
       "      <td>40</td>\n",
       "      <td>United-States</td>\n",
       "      <td>&lt;=50K</td>\n",
       "    </tr>\n",
       "    <tr>\n",
       "      <th>4</th>\n",
       "      <td>28</td>\n",
       "      <td>Private</td>\n",
       "      <td>338409</td>\n",
       "      <td>Bachelors</td>\n",
       "      <td>13</td>\n",
       "      <td>Married-civ-spouse</td>\n",
       "      <td>Prof-specialty</td>\n",
       "      <td>Wife</td>\n",
       "      <td>Black</td>\n",
       "      <td>Female</td>\n",
       "      <td>0</td>\n",
       "      <td>0</td>\n",
       "      <td>40</td>\n",
       "      <td>Cuba</td>\n",
       "      <td>&lt;=50K</td>\n",
       "    </tr>\n",
       "  </tbody>\n",
       "</table>\n",
       "</div>"
      ],
      "text/plain": [
       "   age         workclass  fnlwgt  education  education_num  \\\n",
       "0   39         State-gov   77516  Bachelors             13   \n",
       "1   50  Self-emp-not-inc   83311  Bachelors             13   \n",
       "2   38           Private  215646    HS-grad              9   \n",
       "3   53           Private  234721       11th              7   \n",
       "4   28           Private  338409  Bachelors             13   \n",
       "\n",
       "       marital_status         occupation   relationship   race     sex  \\\n",
       "0       Never-married       Adm-clerical  Not-in-family  White    Male   \n",
       "1  Married-civ-spouse    Exec-managerial        Husband  White    Male   \n",
       "2            Divorced  Handlers-cleaners  Not-in-family  White    Male   \n",
       "3  Married-civ-spouse  Handlers-cleaners        Husband  Black    Male   \n",
       "4  Married-civ-spouse     Prof-specialty           Wife  Black  Female   \n",
       "\n",
       "   capital_gain  capital_loss  hours_per_week native_country category  \n",
       "0          2174             0              40  United-States    <=50K  \n",
       "1             0             0              13  United-States    <=50K  \n",
       "2             0             0              40  United-States    <=50K  \n",
       "3             0             0              40  United-States    <=50K  \n",
       "4             0             0              40           Cuba    <=50K  "
      ]
     },
     "execution_count": 34,
     "metadata": {},
     "output_type": "execute_result"
    }
   ],
   "source": [
    "# Display the first few rows (using display for better notebook integration if available, else show)\n",
    "print(\"First 5 rows (vertical view):\")\n",
    "try:\n",
    "    display(df.limit(5))\n",
    "except NameError:\n",
    "    df.show(n=5, truncate=False, vertical=True)\n",
    "\n",
    "# Display using Pandas for comparison (collects data to driver - use limit() for large datasets)\n",
    "print(\"\\nFirst 5 rows (Pandas view):\")\n",
    "df.limit(5).toPandas()"
   ]
  },
  {
   "cell_type": "markdown",
   "id": "4336ae97",
   "metadata": {},
   "source": [
    "<a id='15-summary-statistics'></a>\\n<a id='summary-stats'></a>\n",
    "### 1.5 Summary Statistics\n",
    "\n",
    "Generate descriptive statistics for numerical columns."
   ]
  },
  {
   "cell_type": "code",
   "execution_count": 57,
   "id": "e04b58c0",
   "metadata": {},
   "outputs": [
    {
     "name": "stdout",
     "output_type": "stream",
     "text": [
      "Summary Statistics (all numerical columns):\n"
     ]
    },
    {
     "data": {
      "text/html": [
       "<div>\n",
       "<style scoped>\n",
       "    .dataframe tbody tr th:only-of-type {\n",
       "        vertical-align: middle;\n",
       "    }\n",
       "\n",
       "    .dataframe tbody tr th {\n",
       "        vertical-align: top;\n",
       "    }\n",
       "\n",
       "    .dataframe thead th {\n",
       "        text-align: right;\n",
       "    }\n",
       "</style>\n",
       "<table border=\"1\" class=\"dataframe\">\n",
       "  <thead>\n",
       "    <tr style=\"text-align: right;\">\n",
       "      <th></th>\n",
       "      <th>summary</th>\n",
       "      <th>age</th>\n",
       "      <th>workclass</th>\n",
       "      <th>fnlwgt</th>\n",
       "      <th>education</th>\n",
       "      <th>education_num</th>\n",
       "      <th>marital_status</th>\n",
       "      <th>occupation</th>\n",
       "      <th>relationship</th>\n",
       "      <th>race</th>\n",
       "      <th>sex</th>\n",
       "      <th>capital_gain</th>\n",
       "      <th>capital_loss</th>\n",
       "      <th>hours_per_week</th>\n",
       "      <th>native_country</th>\n",
       "      <th>category</th>\n",
       "      <th>age_square</th>\n",
       "    </tr>\n",
       "  </thead>\n",
       "  <tbody>\n",
       "    <tr>\n",
       "      <th>0</th>\n",
       "      <td>count</td>\n",
       "      <td>32561</td>\n",
       "      <td>30725</td>\n",
       "      <td>32561</td>\n",
       "      <td>32561</td>\n",
       "      <td>32561</td>\n",
       "      <td>32561</td>\n",
       "      <td>30718</td>\n",
       "      <td>32561</td>\n",
       "      <td>32561</td>\n",
       "      <td>32561</td>\n",
       "      <td>32561</td>\n",
       "      <td>32561</td>\n",
       "      <td>32561</td>\n",
       "      <td>31978</td>\n",
       "      <td>32561</td>\n",
       "      <td>32561</td>\n",
       "    </tr>\n",
       "    <tr>\n",
       "      <th>1</th>\n",
       "      <td>mean</td>\n",
       "      <td>38.58164675532078</td>\n",
       "      <td>None</td>\n",
       "      <td>189778.36651208502</td>\n",
       "      <td>None</td>\n",
       "      <td>10.0806793403151</td>\n",
       "      <td>None</td>\n",
       "      <td>None</td>\n",
       "      <td>None</td>\n",
       "      <td>None</td>\n",
       "      <td>None</td>\n",
       "      <td>1077.6488437087312</td>\n",
       "      <td>87.303829734959</td>\n",
       "      <td>40.437455852092995</td>\n",
       "      <td>None</td>\n",
       "      <td>None</td>\n",
       "      <td>1674.5991523601856</td>\n",
       "    </tr>\n",
       "    <tr>\n",
       "      <th>2</th>\n",
       "      <td>stddev</td>\n",
       "      <td>13.640432553581356</td>\n",
       "      <td>None</td>\n",
       "      <td>105549.97769702227</td>\n",
       "      <td>None</td>\n",
       "      <td>2.572720332067397</td>\n",
       "      <td>None</td>\n",
       "      <td>None</td>\n",
       "      <td>None</td>\n",
       "      <td>None</td>\n",
       "      <td>None</td>\n",
       "      <td>7385.292084840354</td>\n",
       "      <td>402.960218649002</td>\n",
       "      <td>12.347428681731838</td>\n",
       "      <td>None</td>\n",
       "      <td>None</td>\n",
       "      <td>1179.0475214363396</td>\n",
       "    </tr>\n",
       "    <tr>\n",
       "      <th>3</th>\n",
       "      <td>min</td>\n",
       "      <td>17</td>\n",
       "      <td>Federal-gov</td>\n",
       "      <td>12285</td>\n",
       "      <td>10th</td>\n",
       "      <td>1</td>\n",
       "      <td>Divorced</td>\n",
       "      <td>Adm-clerical</td>\n",
       "      <td>Husband</td>\n",
       "      <td>Amer-Indian-Eskimo</td>\n",
       "      <td>Female</td>\n",
       "      <td>0</td>\n",
       "      <td>0</td>\n",
       "      <td>1</td>\n",
       "      <td>Cambodia</td>\n",
       "      <td>&lt;=50K</td>\n",
       "      <td>289.0</td>\n",
       "    </tr>\n",
       "    <tr>\n",
       "      <th>4</th>\n",
       "      <td>max</td>\n",
       "      <td>90</td>\n",
       "      <td>Without-pay</td>\n",
       "      <td>1484705</td>\n",
       "      <td>Some-college</td>\n",
       "      <td>16</td>\n",
       "      <td>Widowed</td>\n",
       "      <td>Transport-moving</td>\n",
       "      <td>Wife</td>\n",
       "      <td>White</td>\n",
       "      <td>Male</td>\n",
       "      <td>99999</td>\n",
       "      <td>4356</td>\n",
       "      <td>99</td>\n",
       "      <td>Yugoslavia</td>\n",
       "      <td>&gt;50K</td>\n",
       "      <td>8100.0</td>\n",
       "    </tr>\n",
       "  </tbody>\n",
       "</table>\n",
       "</div>"
      ],
      "text/plain": [
       "  summary                 age    workclass              fnlwgt     education  \\\n",
       "0   count               32561        30725               32561         32561   \n",
       "1    mean   38.58164675532078         None  189778.36651208502          None   \n",
       "2  stddev  13.640432553581356         None  105549.97769702227          None   \n",
       "3     min                  17  Federal-gov               12285          10th   \n",
       "4     max                  90  Without-pay             1484705  Some-college   \n",
       "\n",
       "       education_num marital_status        occupation relationship  \\\n",
       "0              32561          32561             30718        32561   \n",
       "1   10.0806793403151           None              None         None   \n",
       "2  2.572720332067397           None              None         None   \n",
       "3                  1       Divorced      Adm-clerical      Husband   \n",
       "4                 16        Widowed  Transport-moving         Wife   \n",
       "\n",
       "                 race     sex        capital_gain      capital_loss  \\\n",
       "0               32561   32561               32561             32561   \n",
       "1                None    None  1077.6488437087312   87.303829734959   \n",
       "2                None    None   7385.292084840354  402.960218649002   \n",
       "3  Amer-Indian-Eskimo  Female                   0                 0   \n",
       "4               White    Male               99999              4356   \n",
       "\n",
       "       hours_per_week native_country category          age_square  \n",
       "0               32561          31978    32561               32561  \n",
       "1  40.437455852092995           None     None  1674.5991523601856  \n",
       "2  12.347428681731838           None     None  1179.0475214363396  \n",
       "3                   1       Cambodia    <=50K               289.0  \n",
       "4                  99     Yugoslavia     >50K              8100.0  "
      ]
     },
     "execution_count": 57,
     "metadata": {},
     "output_type": "execute_result"
    }
   ],
   "source": [
    "# Get summary statistics for all numerical columns\n",
    "print(\"Summary Statistics (all numerical columns):\")\n",
    "df.describe().toPandas() # toPandas() for better formatting"
   ]
  },
  {
   "cell_type": "code",
   "execution_count": 58,
   "id": "de6d9c38",
   "metadata": {},
   "outputs": [
    {
     "name": "stdout",
     "output_type": "stream",
     "text": [
      "\n",
      "Summary Statistics for 'capital_gain':\n",
      "+-------+------------------+\n",
      "|summary|      capital_gain|\n",
      "+-------+------------------+\n",
      "|  count|             32561|\n",
      "|   mean|1077.6488437087312|\n",
      "| stddev| 7385.292084840354|\n",
      "|    min|                 0|\n",
      "|    max|             99999|\n",
      "+-------+------------------+\n",
      "\n"
     ]
    }
   ],
   "source": [
    "# Summary statistics for a specific column\n",
    "print(\"\\nSummary Statistics for 'capital_gain':\")\n",
    "df.describe('capital_gain').show()"
   ]
  },
  {
   "cell_type": "markdown",
   "id": "f08c0d0e",
   "metadata": {},
   "source": [
    "<a id='16-categorical-feature-analysis'></a>\\n<a id='categorical-analysis'></a>\n",
    "### 1.6 Categorical Feature Analysis\n",
    "\n",
    "Analyze the distribution of categorical features and their relationship with the target variable (`category`)."
   ]
  },
  {
   "cell_type": "code",
   "execution_count": 37,
   "id": "c34bcb7d",
   "metadata": {},
   "outputs": [
    {
     "name": "stdout",
     "output_type": "stream",
     "text": [
      "Target Variable Distribution ('category'):\n",
      "+--------+-----+\n",
      "|category|count|\n",
      "+--------+-----+\n",
      "|   <=50K|24720|\n",
      "|    >50K| 7841|\n",
      "+--------+-----+\n",
      "\n",
      "\n",
      "Crosstab: Education vs Income Category:\n",
      "+------------------+-----+----+\n",
      "|education_category|<=50K|>50K|\n",
      "+------------------+-----+----+\n",
      "|              10th|  871|  62|\n",
      "|              11th| 1115|  60|\n",
      "|              12th|  400|  33|\n",
      "|           1st-4th|  162|   6|\n",
      "|           5th-6th|  317|  16|\n",
      "|           7th-8th|  606|  40|\n",
      "|               9th|  487|  27|\n",
      "|        Assoc-acdm|  802| 265|\n",
      "|         Assoc-voc| 1021| 361|\n",
      "|         Bachelors| 3134|2221|\n",
      "|         Doctorate|  107| 306|\n",
      "|           HS-grad| 8826|1675|\n",
      "|           Masters|  764| 959|\n",
      "|         Preschool|   51|   0|\n",
      "|       Prof-school|  153| 423|\n",
      "|      Some-college| 5904|1387|\n",
      "+------------------+-----+----+\n",
      "\n"
     ]
    }
   ],
   "source": [
    "# Count occurrences of each category (target variable)\n",
    "print(\"Target Variable Distribution ('category'):\")\n",
    "df.groupBy(\"category\").count().show()\n",
    "\n",
    "# Relationship between education and income category (crosstab)\n",
    "print(\"\\nCrosstab: Education vs Income Category:\")\n",
    "df.crosstab('education', 'category').orderBy(\"education_category\").show()"
   ]
  },
  {
   "cell_type": "markdown",
   "id": "e260133d",
   "metadata": {},
   "source": [
    "<a id='17-check-for-missing-values'></a>\\n<a id='missing-values'></a>\n",
    "### 1.7 Check for Missing Values\n",
    "\n",
    "In many real-world datasets, missing values are represented by placeholders like '?'. Let's check if any columns contain such values."
   ]
  },
  {
   "cell_type": "code",
   "execution_count": 59,
   "id": "145e1008",
   "metadata": {},
   "outputs": [
    {
     "name": "stdout",
     "output_type": "stream",
     "text": [
      "Checking for '?' values in string columns:\n",
      "Columns containing '?' (now replaced with null):\n",
      "  - workclass: 1836\n",
      "  - occupation: 1843\n",
      "  - native_country: 583\n"
     ]
    }
   ],
   "source": [
    "print(\"Checking for '?' values in string columns:\")\n",
    "string_cols = [f.name for f in df.schema.fields if isinstance(f.dataType, StringType)]\n",
    "missing_counts = []\n",
    "\n",
    "for col_name in string_cols:\n",
    "    # Count occurrences of '?' or potential nulls/empty strings after replace\n",
    "    count_q = df.filter(F.col(col_name) == '?').count() # Check before replace\n",
    "    count_null = df.filter(F.col(col_name).isNull()).count() # Check after replace\n",
    "    total_missing = count_q + count_null\n",
    "    if total_missing > 0:\n",
    "        missing_counts.append((col_name, total_missing))\n",
    "\n",
    "# Replace '?' with null before proceeding\n",
    "df_no_q = df\n",
    "for col_name in string_cols:\n",
    "    df_no_q = df_no_q.withColumn(col_name, F.when(F.col(col_name) == '?', None).otherwise(F.col(col_name)))\n",
    "\n",
    "df = df_no_q # Update the main dataframe\n",
    "df.cache() # Recache after transformation\n",
    "\n",
    "if missing_counts:\n",
    "    print(\"Columns containing '?' (now replaced with null):\")\n",
    "    for col, count in missing_counts:\n",
    "        print(f\"  - {col}: {count}\")\n",
    "else:\n",
    "    print(\"No '?' values found in string columns.\")\n",
    "\n",
    "# How to handle missing values (now represented as null)? Options:\n",
    "# 1. Drop rows: df.na.drop()\n",
    "# 2. Impute: Use SparkML's Imputer transformer\n",
    "# 3. Let StringIndexer handle them (using handleInvalid='keep' or 'skip')\n",
    "# For this lab, we'll use handleInvalid='keep' in StringIndexer later.\n"
   ]
  },
  {
   "cell_type": "markdown",
   "id": "0160c9c1",
   "metadata": {},
   "source": [
    "<a id='18-data-visualization-optional-requires-data-collection'></a>\\n<a id='visualization'></a>\n",
    "### 1.8 Data Visualization (Optional - Requires Data Collection)\n",
    "\n",
    "Visualizing data distributions can provide valuable insights. **Warning:** This requires collecting data to the Spark driver node. Only do this on reasonably sized samples or aggregated data if working with very large datasets.\n",
    "\n",
    "Let's visualize the distribution of `age`."
   ]
  },
  {
   "cell_type": "code",
   "execution_count": 39,
   "id": "df2486f5",
   "metadata": {},
   "outputs": [
    {
     "data": {
      "image/png": "[encoded data removed]",
      "text/plain": [
       "<Figure size 1000x600 with 1 Axes>"
      ]
     },
     "metadata": {},
     "output_type": "display_data"
    }
   ],
   "source": [
    "%matplotlib inline\n",
    "import matplotlib.pyplot as plt\n",
    "import seaborn as sns\n",
    "import pandas as pd\n",
    "\n",
    "# Sample data for visualization (adjust sample fraction as needed)\n",
    "sample_fraction = 0.1 # Use 10% of data for the plot\n",
    "seed = 42\n",
    "\n",
    "try:\n",
    "    # Use Arrow for potentially faster conversion\n",
    "    age_data_pd = df.select('age').sample(withReplacement=False, fraction=sample_fraction, seed=seed).toPandas()\n",
    "\n",
    "    if not age_data_pd.empty:\n",
    "        plt.figure(figsize=(10, 6))\n",
    "        sns.histplot(age_data_pd['age'], kde=True, bins=30)\n",
    "        plt.title(f'Distribution of Age (Sample Fraction: {sample_fraction*100:.0f}%)')\n",
    "        plt.xlabel('Age')\n",
    "        plt.ylabel('Frequency')\n",
    "        plt.grid(axis='y', alpha=0.75)\n",
    "        plt.show()\n",
    "    else:\n",
    "        print(f\"Sampling fraction {sample_fraction} resulted in empty data for plotting.\")\n",
    "\n",
    "except Exception as e:\n",
    "    print(f\"Could not generate plot: {e}. Ensure matplotlib, seaborn, and pyarrow are installed.\")"
   ]
  },
  {
   "cell_type": "markdown",
   "id": "6e8a6534",
   "metadata": {},
   "source": [
    "<a id='task-2-feature-engineering-and-pipeline-construction'></a>\\n<a id='task-2'></a>\n",
    "## Task 2: Feature Engineering and Pipeline Construction\n",
    "\n",
    "Machine learning algorithms require numerical input. We need to transform our raw data, especially categorical features, into a format suitable for modeling. SparkML pipelines streamline this process."
   ]
  },
  {
   "cell_type": "markdown",
   "id": "684e5cad",
   "metadata": {},
   "source": [
    "<a id='21-feature-engineering-adding-age_square'></a>\\n<a id='feature-engineering-age'></a>\n",
    "### 2.1 Feature Engineering: Adding `age_square`\n",
    "\n",
    "As relationships might not be linear, adding polynomial features can sometimes improve model performance. Let's add a squared term for age."
   ]
  },
  {
   "cell_type": "code",
   "execution_count": 60,
   "id": "3f060978",
   "metadata": {},
   "outputs": [
    {
     "name": "stdout",
     "output_type": "stream",
     "text": [
      "'age_square' column already exists.\n",
      "root\n",
      " |-- age: integer (nullable = true)\n",
      " |-- workclass: string (nullable = true)\n",
      " |-- fnlwgt: integer (nullable = true)\n",
      " |-- education: string (nullable = true)\n",
      " |-- education_num: integer (nullable = true)\n",
      " |-- marital_status: string (nullable = true)\n",
      " |-- occupation: string (nullable = true)\n",
      " |-- relationship: string (nullable = true)\n",
      " |-- race: string (nullable = true)\n",
      " |-- sex: string (nullable = true)\n",
      " |-- capital_gain: integer (nullable = true)\n",
      " |-- capital_loss: integer (nullable = true)\n",
      " |-- hours_per_week: integer (nullable = true)\n",
      " |-- native_country: string (nullable = true)\n",
      " |-- category: string (nullable = true)\n",
      " |-- age_square: double (nullable = true)\n",
      "\n"
     ]
    }
   ],
   "source": [
    "# Add age_square feature using withColumn\n",
    "# Note: Ensure this is idempotent if the notebook cell is run multiple times.\n",
    "if 'age_square' not in df.columns:\n",
    "    df = df.withColumn(\"age_square\", F.col(\"age\")**2)\n",
    "    print(\"'age_square' column added.\")\n",
    "    df.cache() # Recache after adding column\n",
    "else:\n",
    "    print(\"'age_square' column already exists.\")\n",
    "\n",
    "# Verify by showing schema or first row\n",
    "df.printSchema()\n",
    "# df.limit(1).toPandas() # Optional check"
   ]
  },
  {
   "cell_type": "markdown",
   "id": "c894b842",
   "metadata": {},
   "source": [
    "<a id='22-defining-pipeline-stages'></a>\\n<a id='pipeline-stages-def'></a>\n",
    "### 2.2 Defining Pipeline Stages\n",
    "\n",
    "We'll build a pipeline consisting of several stages:\n",
    "1.  **Categorical Feature Processing:** Convert string categories to numerical indices (`StringIndexer`) and then encode these indices into binary sparse vectors (`OneHotEncoder`).\n",
    "2.  **Label Indexing:** Convert the string target variable (`category`) into numerical labels using `StringIndexer`.\n",
    "3.  **Feature Assembling:** Combine all processed numerical and encoded categorical features into a single feature vector using `VectorAssembler`."
   ]
  },
  {
   "cell_type": "markdown",
   "id": "86e862bf",
   "metadata": {},
   "source": [
    "<a id='221-categorical-feature-processing-indexing-encoding'></a>\\n<a id='stage-cat'></a>\n",
    "#### 2.2.1 Categorical Feature Processing (Indexing & Encoding)\n",
    "\n",
    "We iterate through the identified categorical columns, creating a `StringIndexer` and a `OneHotEncoder` for each. The `StringIndexer` maps strings to indices, and `OneHotEncoder` maps these indices to sparse binary vectors. We use `handleInvalid='keep'` for the indexer to handle potential missing values (now null) or unseen categories during prediction."
   ]
  },
  {
   "cell_type": "code",
   "execution_count": 61,
   "id": "8f805d92",
   "metadata": {},
   "outputs": [
    {
     "name": "stdout",
     "output_type": "stream",
     "text": [
      "Defining stages for categorical features...\n",
      "  Added StringIndexer (workclass -> workclass_Index)\n",
      "  Added OneHotEncoder (workclass_Index -> workclass_Vec)\n",
      "  Added StringIndexer (marital_status -> marital_status_Index)\n",
      "  Added OneHotEncoder (marital_status_Index -> marital_status_Vec)\n",
      "  Added StringIndexer (occupation -> occupation_Index)\n",
      "  Added OneHotEncoder (occupation_Index -> occupation_Vec)\n",
      "  Added StringIndexer (relationship -> relationship_Index)\n",
      "  Added OneHotEncoder (relationship_Index -> relationship_Vec)\n",
      "  Added StringIndexer (race -> race_Index)\n",
      "  Added OneHotEncoder (race_Index -> race_Vec)\n",
      "  Added StringIndexer (sex -> sex_Index)\n",
      "  Added OneHotEncoder (sex_Index -> sex_Vec)\n",
      "  Added StringIndexer (native_country -> native_country_Index)\n",
      "  Added OneHotEncoder (native_country_Index -> native_country_Vec)\n"
     ]
    }
   ],
   "source": [
    "from pyspark.ml.feature import StringIndexer, OneHotEncoder\n",
    "\n",
    "# Identify categorical columns (excluding target and potentially dropped columns like 'education')\n",
    "categorical_cols = ['workclass', 'marital_status', 'occupation', 'relationship', 'race', 'sex', 'native_country']\n",
    "\n",
    "indexers_and_encoders = []\n",
    "print(\"Defining stages for categorical features...\")\n",
    "for cat_col in categorical_cols:\n",
    "    index_col = cat_col + \"_Index\"\n",
    "    vec_col = cat_col + \"_Vec\"\n",
    "\n",
    "    # Indexer Stage\n",
    "    string_indexer = StringIndexer(inputCol=cat_col, outputCol=index_col, handleInvalid='keep')\n",
    "    indexers_and_encoders.append(string_indexer)\n",
    "    print(f\"  Added StringIndexer ({cat_col} -> {index_col})\")\n",
    "\n",
    "    # Encoder Stage\n",
    "    encoder = OneHotEncoder(inputCols=[index_col], outputCols=[vec_col])\n",
    "    indexers_and_encoders.append(encoder)\n",
    "    print(f\"  Added OneHotEncoder ({index_col} -> {vec_col})\")\n",
    "\n",
    "# Keep track of the output vector column names for the assembler\n",
    "categorical_vec_cols = [c + \"_Vec\" for c in categorical_cols]"
   ]
  },
  {
   "cell_type": "markdown",
   "id": "1a293577",
   "metadata": {},
   "source": [
    "<a id='222-label-indexing'></a>\\n<a id='stage-label'></a>\n",
    "#### 2.2.2 Label Indexing\n",
    "\n",
    "Convert the target variable (`category`) from string ('<=50K', '>50K') to numerical labels (0.0, 1.0)."
   ]
  },
  {
   "cell_type": "code",
   "execution_count": 62,
   "id": "f4ec1844",
   "metadata": {},
   "outputs": [
    {
     "name": "stdout",
     "output_type": "stream",
     "text": [
      "Added StringIndexer for label (category -> label)\n"
     ]
    }
   ],
   "source": [
    "label_col = 'category'\n",
    "label_output_col = \"label\" # Standard name for the target label column\n",
    "\n",
    "label_indexer = StringIndexer(inputCol=label_col, outputCol=label_output_col)\n",
    "print(f\"Added StringIndexer for label ({label_col} -> {label_output_col})\")"
   ]
  },
  {
   "cell_type": "markdown",
   "id": "ef21c8a7",
   "metadata": {},
   "source": [
    "<a id='223-feature-assembling'></a>\\n<a id='stage-assemble'></a>\n",
    "#### 2.2.3 Feature Assembling\n",
    "\n",
    "Combine all the features (original numerical columns and the newly created one-hot encoded vectors) into a single vector column named `features`. This is the input format required by most SparkML algorithms."
   ]
  },
  {
   "cell_type": "code",
   "execution_count": 63,
   "id": "8e1009a0",
   "metadata": {},
   "outputs": [
    {
     "name": "stdout",
     "output_type": "stream",
     "text": [
      "Added VectorAssembler to create 'features' from 14 columns\n"
     ]
    }
   ],
   "source": [
    "from pyspark.ml.feature import VectorAssembler\n",
    "\n",
    "# Define numerical columns to include (ensure 'age_square' is present)\n",
    "numerical_cols = ['age', 'age_square', 'fnlwgt', 'education_num', 'capital_gain', 'capital_loss', 'hours_per_week']\n",
    "\n",
    "feature_output_col = \"features\" # Standard name for the features vector\n",
    "assembler_inputs = categorical_vec_cols + numerical_cols\n",
    "\n",
    "vector_assembler = VectorAssembler(inputCols=assembler_inputs, outputCol=feature_output_col)\n",
    "print(f\"Added VectorAssembler to create '{feature_output_col}' from {len(assembler_inputs)} columns\")"
   ]
  },
  {
   "cell_type": "markdown",
   "id": "060e5678",
   "metadata": {},
   "source": [
    "<a id='23-apply-the-preprocessing-pipeline'></a>\\n<a id='pipeline-apply'></a>\n",
    "### 2.3 Apply the Preprocessing Pipeline\n",
    "\n",
    "Combine all defined stages into a `Pipeline`, fit it to the entire dataset (`df`) to learn the necessary parameters (like category mappings from `StringIndexer`), and then transform the data."
   ]
  },
  {
   "cell_type": "code",
   "execution_count": 68,
   "id": "4f877455",
   "metadata": {},
   "outputs": [
    {
     "name": "stdout",
     "output_type": "stream",
     "text": [
      "Total stages in preprocessing pipeline: 16\n",
      "Fitting preprocessing pipeline...\n",
      "Pipeline fitting complete.\n",
      "Transforming data with fitted pipeline...\n",
      "Data transformation complete.\n",
      "Schema of data ready for modeling:\n",
      "root\n",
      " |-- label: double (nullable = false)\n",
      " |-- features: vector (nullable = true)\n",
      "\n",
      "\n",
      "Sample row for modeling:\n"
     ]
    }
   ],
   "source": [
    "from pyspark.ml import Pipeline\n",
    "\n",
    "# Combine all stages: categorical processing, label indexing, feature assembling\n",
    "all_stages = indexers_and_encoders + [label_indexer, vector_assembler]\n",
    "preprocessing_pipeline = Pipeline(stages=all_stages)\n",
    "\n",
    "print(f\"Total stages in preprocessing pipeline: {len(all_stages)}\")\n",
    "\n",
    "print(\"Fitting preprocessing pipeline...\")\n",
    "# Fit the preprocessing pipeline to the data\n",
    "preprocessing_model = preprocessing_pipeline.fit(df)\n",
    "print(\"Pipeline fitting complete.\")\n",
    "\n",
    "print(\"Transforming data with fitted pipeline...\")\n",
    "# Transform the data\n",
    "processed_df = preprocessing_model.transform(df)\n",
    "print(\"Data transformation complete.\")\n",
    "\n",
    "# Select only the relevant columns for modeling: 'label' and 'features'\n",
    "model_input_df = processed_df.select(label_output_col, feature_output_col)\n",
    "model_input_df.cache() # Cache the final data for modeling\n",
    "\n",
    "print(\"Schema of data ready for modeling:\")\n",
    "model_input_df.printSchema()\n",
    "\n",
    "# Show a sample row with the final 'label' and 'features' columns\n",
    "print(\"\\nSample row for modeling:\")\n"
   ]
  },
  {
   "cell_type": "code",
   "execution_count": 67,
   "id": "d2016e9c-c8a5-4626-8fd1-4eebd44390f4",
   "metadata": {},
   "outputs": [
    {
     "name": "stdout",
     "output_type": "stream",
     "text": [
      "root\n",
      " |-- age: integer (nullable = true)\n",
      " |-- workclass: string (nullable = true)\n",
      " |-- fnlwgt: integer (nullable = true)\n",
      " |-- education: string (nullable = true)\n",
      " |-- education_num: integer (nullable = true)\n",
      " |-- marital_status: string (nullable = true)\n",
      " |-- occupation: string (nullable = true)\n",
      " |-- relationship: string (nullable = true)\n",
      " |-- race: string (nullable = true)\n",
      " |-- sex: string (nullable = true)\n",
      " |-- capital_gain: integer (nullable = true)\n",
      " |-- capital_loss: integer (nullable = true)\n",
      " |-- hours_per_week: integer (nullable = true)\n",
      " |-- native_country: string (nullable = true)\n",
      " |-- category: string (nullable = true)\n",
      " |-- age_square: double (nullable = true)\n",
      " |-- workclass_Index: double (nullable = false)\n",
      " |-- workclass_Vec: vector (nullable = true)\n",
      " |-- marital_status_Index: double (nullable = false)\n",
      " |-- marital_status_Vec: vector (nullable = true)\n",
      " |-- occupation_Index: double (nullable = false)\n",
      " |-- occupation_Vec: vector (nullable = true)\n",
      " |-- relationship_Index: double (nullable = false)\n",
      " |-- relationship_Vec: vector (nullable = true)\n",
      " |-- race_Index: double (nullable = false)\n",
      " |-- race_Vec: vector (nullable = true)\n",
      " |-- sex_Index: double (nullable = false)\n",
      " |-- sex_Vec: vector (nullable = true)\n",
      " |-- native_country_Index: double (nullable = false)\n",
      " |-- native_country_Vec: vector (nullable = true)\n",
      " |-- label: double (nullable = false)\n",
      " |-- features: vector (nullable = true)\n",
      "\n"
     ]
    }
   ],
   "source": [
    "processed_df.printSchema()"
   ]
  },
  {
   "cell_type": "markdown",
   "id": "f4cc816a",
   "metadata": {},
   "source": [
    "<a id='task-3-model-training-and-evaluation'></a>\\n<a id='task-3'></a>\n",
    "## Task 3: Model Training and Evaluation\n",
    "\n",
    "Now that the data is preprocessed and vectorized, we can split it and train our classification model."
   ]
  },
  {
   "cell_type": "markdown",
   "id": "a9c866c8",
   "metadata": {},
   "source": [
    "<a id='31-split-data'></a>\\n<a id='split-data'></a>\n",
    "### 3.1 Split Data\n",
    "\n",
    "Split the `model_input_df` into training and testing sets."
   ]
  },
  {
   "cell_type": "code",
   "execution_count": 69,
   "id": "04571b4f",
   "metadata": {},
   "outputs": [
    {
     "name": "stdout",
     "output_type": "stream",
     "text": [
      "Training data count: 22724 (69.8%)\n",
      "Test data count: 9837 (30.2%)\n"
     ]
    }
   ],
   "source": [
    "# Split data (e.g., 70% training, 30% testing)\n",
    "split_ratio = [0.7, 0.3]\n",
    "seed = 123 # Use a fixed seed for reproducibility\n",
    "train_data, test_data = model_input_df.randomSplit(split_ratio, seed=seed)\n",
    "\n",
    "# Cache the splits for performance during training and evaluation\n",
    "train_data.cache()\n",
    "test_data.cache()\n",
    "\n",
    "print(f\"Training data count: {train_data.count()} ({(train_data.count() / model_input_df.count())*100:.1f}%)\")\n",
    "print(f\"Test data count: {test_data.count()} ({(test_data.count() / model_input_df.count())*100:.1f}%)\")"
   ]
  },
  {
   "cell_type": "markdown",
   "id": "6db60aa4",
   "metadata": {},
   "source": [
    "<a id='32-train-initial-logistic-regression-model'></a>\\n<a id='train-initial'></a>\n",
    "### 3.2 Train Initial Logistic Regression Model\n",
    "\n",
    "Define and train a Logistic Regression model with some default hyperparameters."
   ]
  },
  {
   "cell_type": "code",
   "execution_count": 71,
   "id": "af971aa3",
   "metadata": {},
   "outputs": [
    {
     "name": "stdout",
     "output_type": "stream",
     "text": [
      "Training Initial Logistic Regression model (regParam=0.1, elasticNetParam=0.0, maxIter=10)...\n",
      "Initial model training complete.\n",
      "\n",
      "Training Objective History: [0.5536149912058121, 0.46539496043456224, 0.3999473516349883, 0.39336696203296206, 0.391246485188995, 0.3887211821220837, 0.38853130786699924, 0.3884969176122753, 0.3884918396029818, 0.3884907192447138, 0.3884906627406679]\n",
      "Training Area Under ROC: 0.8967\n",
      "+--------------------+--------------------+\n",
      "|                 FPR|                 TPR|\n",
      "+--------------------+--------------------+\n",
      "|                 0.0|                 0.0|\n",
      "|                 0.0|0.003997093023255814|\n",
      "|                 0.0|0.007994186046511628|\n",
      "|                 0.0|0.011991279069767442|\n",
      "|                 0.0|0.015988372093023256|\n",
      "|                 0.0| 0.01998546511627907|\n",
      "|                 0.0|0.023982558139534885|\n",
      "|5.807200929152148...| 0.02779796511627907|\n",
      "|1.161440185830429...|0.031613372093023256|\n",
      "|2.322880371660859...|0.035247093023255814|\n",
      "|2.322880371660859...| 0.03924418604651163|\n",
      "|3.484320557491289E-4|0.042877906976744186|\n",
      "|4.065040650406504E-4| 0.04669331395348837|\n",
      "|6.387921022067364E-4| 0.04996366279069767|\n",
      "|6.968641114982578E-4| 0.05377906976744186|\n",
      "|6.968641114982578E-4| 0.05777616279069767|\n",
      "|7.549361207897793E-4| 0.06159156976744186|\n",
      "|8.710801393728223E-4| 0.06522529069767442|\n",
      "|0.001103368176538...| 0.06849563953488372|\n",
      "|0.001219512195121...| 0.07212936046511628|\n",
      "+--------------------+--------------------+\n",
      "only showing top 20 rows\n",
      "\n",
      "+--------------------+------------------+\n",
      "|              recall|         precision|\n",
      "+--------------------+------------------+\n",
      "|                 0.0|               1.0|\n",
      "|0.003997093023255814|               1.0|\n",
      "|0.007994186046511628|               1.0|\n",
      "|0.011991279069767442|               1.0|\n",
      "|0.015988372093023256|               1.0|\n",
      "| 0.01998546511627907|               1.0|\n",
      "|0.023982558139534885|               1.0|\n",
      "| 0.02779796511627907|0.9935064935064936|\n",
      "|0.031613372093023256|0.9886363636363636|\n",
      "|0.035247093023255814|0.9797979797979798|\n",
      "| 0.03924418604651163|0.9818181818181818|\n",
      "|0.042877906976744186|0.9752066115702479|\n",
      "| 0.04669331395348837|0.9734848484848485|\n",
      "| 0.04996366279069767|0.9615384615384616|\n",
      "| 0.05377906976744186| 0.961038961038961|\n",
      "| 0.05777616279069767|0.9636363636363636|\n",
      "| 0.06159156976744186|0.9630681818181818|\n",
      "| 0.06522529069767442|0.9598930481283422|\n",
      "| 0.06849563953488372| 0.952020202020202|\n",
      "| 0.07212936046511628|0.9497607655502392|\n",
      "+--------------------+------------------+\n",
      "only showing top 20 rows\n",
      "\n"
     ]
    }
   ],
   "source": [
    "from pyspark.ml.classification import LogisticRegression\n",
    "\n",
    "# Define the Logistic Regression estimator\n",
    "lr_initial = LogisticRegression(labelCol=label_output_col, \n",
    "                              featuresCol=feature_output_col, \n",
    "                              maxIter=10, \n",
    "                              regParam=0.1, # Initial regularization parameter\n",
    "                              elasticNetParam=0.0) # Initial elastic net parameter (L2 regularization)\n",
    "\n",
    "print(f\"Training Initial Logistic Regression model (regParam={lr_initial.getRegParam()}, elasticNetParam={lr_initial.getElasticNetParam()}, maxIter={lr_initial.getMaxIter()})...\")\n",
    "# Train the model\n",
    "lr_initial_model = lr_initial.fit(train_data)\n",
    "print(\"Initial model training complete.\")\n",
    "\n",
    "# --- Optional: Inspect Training Summary --- \n",
    "# Provides metrics calculated on the training data\n",
    "training_summary = lr_initial_model.summary\n",
    "print(f\"\\nTraining Objective History: {training_summary.objectiveHistory}\")\n",
    "print(f\"Training Area Under ROC: {training_summary.areaUnderROC:.4f}\")\n",
    "training_summary.roc.show() # Show ROC curve data (can plot this)\n",
    "training_summary.pr.show() # Show Precision-Recall curve data"
   ]
  },
  {
   "cell_type": "markdown",
   "id": "dfeec1f4",
   "metadata": {},
   "source": [
    "<a id='33-make-predictions-with-initial-model'></a>\\n<a id='predict-initial'></a>\n",
    "### 3.3 Make Predictions with Initial Model\n",
    "\n",
    "Use the trained initial model to make predictions on the unseen test set."
   ]
  },
  {
   "cell_type": "code",
   "execution_count": 72,
   "id": "601fbe7e",
   "metadata": {},
   "outputs": [
    {
     "name": "stdout",
     "output_type": "stream",
     "text": [
      "Sample predictions from initial model:\n",
      "+-----+----------+---------------------------------------+\n",
      "|label|prediction|probability                            |\n",
      "+-----+----------+---------------------------------------+\n",
      "|0.0  |1.0       |[0.4141787419986102,0.5858212580013897]|\n",
      "|0.0  |0.0       |[0.5770504499975915,0.4229495500024085]|\n",
      "|0.0  |1.0       |[0.358728590009184,0.641271409990816]  |\n",
      "|0.0  |1.0       |[0.4642313307592303,0.5357686692407697]|\n",
      "|0.0  |1.0       |[0.1951496957702168,0.8048503042297832]|\n",
      "+-----+----------+---------------------------------------+\n",
      "only showing top 5 rows\n",
      "\n"
     ]
    }
   ],
   "source": [
    "# Make predictions on the test data\n",
    "initial_predictions = lr_initial_model.transform(test_data)\n",
    "\n",
    "print(\"Sample predictions from initial model:\")\n",
    "# Display label, prediction, and probability vector\n",
    "initial_predictions.select(\"label\", \"prediction\", \"probability\").show(5, truncate=False)"
   ]
  },
  {
   "cell_type": "code",
   "execution_count": 73,
   "id": "18d167bc-4fe4-421c-942c-ed14a712834f",
   "metadata": {},
   "outputs": [
    {
     "name": "stdout",
     "output_type": "stream",
     "text": [
      "root\n",
      " |-- label: double (nullable = false)\n",
      " |-- features: vector (nullable = true)\n",
      " |-- rawPrediction: vector (nullable = true)\n",
      " |-- probability: vector (nullable = true)\n",
      " |-- prediction: double (nullable = false)\n",
      "\n"
     ]
    }
   ],
   "source": [
    "initial_predictions.printSchema()"
   ]
  },
  {
   "cell_type": "code",
   "execution_count": 74,
   "id": "391114c5-a80f-49cb-8f71-f024d3ad6c8f",
   "metadata": {},
   "outputs": [
    {
     "name": "stdout",
     "output_type": "stream",
     "text": [
      "root\n",
      " |-- label: double (nullable = false)\n",
      " |-- features: vector (nullable = true)\n",
      "\n"
     ]
    }
   ],
   "source": [
    "test_data.printSchema()"
   ]
  },
  {
   "cell_type": "markdown",
   "id": "91a9d5b7",
   "metadata": {},
   "source": [
    "<a id='34-evaluate-initial-model'></a>\\n<a id='eval-initial'></a>\n",
    "### 3.4 Evaluate Initial Model\n",
    "\n",
    "Evaluate the initial model's performance on the test set."
   ]
  },
  {
   "cell_type": "code",
   "execution_count": 75,
   "id": "c41bff76",
   "metadata": {},
   "outputs": [
    {
     "name": "stdout",
     "output_type": "stream",
     "text": [
      "Area Under ROC (AUC) on Test Data (Initial Model): 0.8895\n",
      "Accuracy (Initial Model): 0.8350\n",
      "Weighted Precision (Initial Model): 0.8252\n",
      "Weighted Recall (Initial Model): 0.8350\n",
      "F1 Score (Initial Model): 0.8215\n"
     ]
    }
   ],
   "source": [
    "from pyspark.ml.evaluation import BinaryClassificationEvaluator, MulticlassClassificationEvaluator\n",
    "\n",
    "# --- Area Under ROC (AUC) --- \n",
    "# Evaluator for binary classification, typically uses rawPrediction for AUC\n",
    "binary_evaluator_auc = BinaryClassificationEvaluator(rawPredictionCol=\"rawPrediction\", \n",
    "                                                     labelCol=\"label\", \n",
    "                                                     metricName=\"areaUnderROC\")\n",
    "initial_auc = binary_evaluator_auc.evaluate(initial_predictions)\n",
    "print(f\"Area Under ROC (AUC) on Test Data (Initial Model): {initial_auc:.4f}\")\n",
    "\n",
    "# --- Other Metrics (Accuracy, Precision, Recall, F1) --- \n",
    "# Evaluator for multi-class metrics (works for binary too), uses predictionCol\n",
    "multi_evaluator = MulticlassClassificationEvaluator(labelCol=\"label\", predictionCol=\"prediction\")\n",
    "\n",
    "initial_accuracy = multi_evaluator.evaluate(initial_predictions, {multi_evaluator.metricName: \"accuracy\"})\n",
    "initial_precision = multi_evaluator.evaluate(initial_predictions, {multi_evaluator.metricName: \"weightedPrecision\"})\n",
    "initial_recall = multi_evaluator.evaluate(initial_predictions, {multi_evaluator.metricName: \"weightedRecall\"})\n",
    "initial_f1 = multi_evaluator.evaluate(initial_predictions, {multi_evaluator.metricName: \"f1\"})\n",
    "\n",
    "print(f\"Accuracy (Initial Model): {initial_accuracy:.4f}\")\n",
    "print(f\"Weighted Precision (Initial Model): {initial_precision:.4f}\")\n",
    "print(f\"Weighted Recall (Initial Model): {initial_recall:.4f}\")\n",
    "print(f\"F1 Score (Initial Model): {initial_f1:.4f}\")"
   ]
  },
  {
   "cell_type": "markdown",
   "id": "75a92067",
   "metadata": {},
   "source": [
    "<a id='task-4-hyperparameter-tuning-with-cross-validation'></a>\\n<a id='task-4'></a>\n",
    "## Task 4: Hyperparameter Tuning with Cross-Validation\n",
    "\n",
    "The initial model used default or arbitrary hyperparameters. To potentially improve performance, we perform hyperparameter tuning using cross-validation. This process systematically explores different combinations of parameters and selects the one that performs best on average across different subsets (folds) of the training data."
   ]
  },
  {
   "cell_type": "markdown",
   "id": "b4a4f494",
   "metadata": {},
   "source": [
    "<a id='41-define-parameter-grid'></a>\\n<a id='param-grid'></a>\n",
    "### 4.1 Define Parameter Grid\n",
    "\n",
    "Specify the hyperparameters and the range of values to test for the `LogisticRegression` model. We'll tune:\n",
    "* `regParam`: Controls the strength of regularization (higher values mean stronger regularization).\n",
    "* `elasticNetParam`: Mixes L1 (Lasso) and L2 (Ridge) regularization. `0.0` is L2, `1.0` is L1, and values in between are a combination.\n",
    "* `maxIter`: The maximum number of iterations for the optimization algorithm."
   ]
  },
  {
   "cell_type": "code",
   "execution_count": 76,
   "id": "4dc84bdf",
   "metadata": {},
   "outputs": [
    {
     "name": "stdout",
     "output_type": "stream",
     "text": [
      "Number of parameter combinations to test in CV: 18\n"
     ]
    }
   ],
   "source": [
    "from pyspark.ml.tuning import ParamGridBuilder, CrossValidator\n",
    "\n",
    "# Define the Logistic Regression estimator again (it's stateless, so this is fine)\n",
    "lr_for_cv = LogisticRegression(labelCol=\"label\", featuresCol=\"features\") \n",
    "\n",
    "# Define the parameter grid\n",
    "param_grid = ParamGridBuilder() \\\n",
    "    .addGrid(lr_for_cv.regParam, [0.01, 0.1, 0.5]) \\\n",
    "    .addGrid(lr_for_cv.elasticNetParam, [0.0, 0.5, 1.0]) \\\n",
    "    .addGrid(lr_for_cv.maxIter, [10, 50]) \\\n",
    "    .build()\n",
    "\n",
    "# Define the evaluator (using AUC)\n",
    "# We can reuse the binary_evaluator_auc defined earlier\n",
    "\n",
    "print(f\"Number of parameter combinations to test in CV: {len(param_grid)}\")"
   ]
  },
  {
   "cell_type": "markdown",
   "id": "9df42ea1",
   "metadata": {},
   "source": [
    "<a id='42-set-up-and-run-cross-validator'></a>\\n<a id='cross-validator'></a>\n",
    "### 4.2 Set up and Run Cross-Validator\n",
    "\n",
    "Configure the `CrossValidator`. This involves specifying the estimator (`lr_for_cv`), the parameter grid (`param_grid`), the evaluator (`binary_evaluator_auc`), and the number of folds for cross-validation (e.g., 3-fold). Increasing `parallelism` can speed up the process if cluster resources allow."
   ]
  },
  {
   "cell_type": "code",
   "execution_count": 77,
   "id": "808253c8",
   "metadata": {},
   "outputs": [
    {
     "name": "stdout",
     "output_type": "stream",
     "text": [
      "Starting 3-Fold Cross-Validation (18 parameter sets)...\n",
      "Cross-Validation complete.\n"
     ]
    }
   ],
   "source": [
    "# Create CrossValidator\n",
    "num_folds = 3 # Keep low for lab environment, increase (e.g., 5 or 10) for more robust tuning\n",
    "cv = CrossValidator(estimator=lr_for_cv, \n",
    "                    estimatorParamMaps=param_grid,\n",
    "                    evaluator=binary_evaluator_auc, # Use AUC evaluator\n",
    "                    numFolds=num_folds, \n",
    "                    parallelism=4, # Train 4 models in parallel (adjust based on cores)\n",
    "                    seed=seed) # Use same seed for CV splits\n",
    "\n",
    "print(f\"Starting {num_folds}-Fold Cross-Validation ({len(param_grid)} parameter sets)...\")\n",
    "# Run cross-validation. This trains (num_folds * num_param_combinations) models.\n",
    "cv_model = cv.fit(train_data) # Fit on the training data split\n",
    "print(\"Cross-Validation complete.\")\n",
    "\n",
    "# This step can take significant time."
   ]
  },
  {
   "cell_type": "markdown",
   "id": "4ed486f2",
   "metadata": {},
   "source": [
    "<a id='43-evaluate-the-best-model-from-cv'></a>\\n<a id='eval-best'></a>\n",
    "### 4.3 Evaluate the Best Model from CV\n",
    "\n",
    "The `CrossValidator` fit (`cv_model`) automatically selects the `bestModel` based on the average performance across the folds using the specified evaluator (AUC). We now evaluate this chosen best model on the held-out `test_data` to get an unbiased estimate of its performance."
   ]
  },
  {
   "cell_type": "code",
   "execution_count": 78,
   "id": "ca94f016",
   "metadata": {},
   "outputs": [
    {
     "name": "stdout",
     "output_type": "stream",
     "text": [
      "AUC of Best Model from Cross-Validation on Test Data: 0.9005\n",
      "AUC of Initial Model on Test Data: 0.8895\n",
      "\n",
      "Best Hyperparameters found by Cross-Validation:\n",
      "  - elasticNetParam: 0.0\n",
      "  - maxIter: 50\n",
      "  - regParam: 0.01\n",
      "\n",
      "Other Metrics for Best CV Model:\n",
      "  Accuracy: 0.8477\n",
      "  Weighted Precision: 0.8403\n",
      "  Weighted Recall: 0.8477\n",
      "  F1 Score: 0.8413\n"
     ]
    }
   ],
   "source": [
    "# Get the best model instance found during cross-validation\n",
    "best_lr_model_from_cv = cv_model.bestModel\n",
    "\n",
    "# Make predictions on the test data using the best model\n",
    "best_cv_predictions = best_lr_model_from_cv.transform(test_data)\n",
    "\n",
    "# Evaluate the best model using the same AUC evaluator\n",
    "best_cv_auc = binary_evaluator_auc.evaluate(best_cv_predictions)\n",
    "print(f\"AUC of Best Model from Cross-Validation on Test Data: {best_cv_auc:.4f}\")\n",
    "\n",
    "# Compare with the initial model's AUC\n",
    "print(f\"AUC of Initial Model on Test Data: {initial_auc:.4f}\")\n",
    "\n",
    "# --- Inspect the best hyperparameters --- \n",
    "best_params = best_lr_model_from_cv.extractParamMap()\n",
    "print(\"\\nBest Hyperparameters found by Cross-Validation:\")\n",
    "for param, value in best_params.items():\n",
    "    # Print only the parameters we tuned\n",
    "    if param.name in ['regParam', 'elasticNetParam', 'maxIter']:\n",
    "         print(f\"  - {param.name}: {value}\")\n",
    "\n",
    "# --- Evaluate other metrics for the best CV model ---\n",
    "best_cv_accuracy = multi_evaluator.evaluate(best_cv_predictions, {multi_evaluator.metricName: \"accuracy\"})\n",
    "best_cv_precision = multi_evaluator.evaluate(best_cv_predictions, {multi_evaluator.metricName: \"weightedPrecision\"})\n",
    "best_cv_recall = multi_evaluator.evaluate(best_cv_predictions, {multi_evaluator.metricName: \"weightedRecall\"})\n",
    "best_cv_f1 = multi_evaluator.evaluate(best_cv_predictions, {multi_evaluator.metricName: \"f1\"})\n",
    "\n",
    "print(f\"\\nOther Metrics for Best CV Model:\")\n",
    "print(f\"  Accuracy: {best_cv_accuracy:.4f}\")\n",
    "print(f\"  Weighted Precision: {best_cv_precision:.4f}\")\n",
    "print(f\"  Weighted Recall: {best_cv_recall:.4f}\")\n",
    "print(f\"  F1 Score: {best_cv_f1:.4f}\")"
   ]
  },
  {
   "cell_type": "markdown",
   "id": "95b42f5f",
   "metadata": {},
   "source": [
    "<a id='task-5-model-persistence'></a>\\n<a id='task-5'></a>\n",
    "## Task 5: Model Persistence\n",
    "\n",
    "Saving trained models and preprocessing pipelines allows them to be reused later for batch predictions or deployment in production systems without retraining."
   ]
  },
  {
   "cell_type": "code",
   "execution_count": 80,
   "id": "7b081e80",
   "metadata": {},
   "outputs": [
    {
     "name": "stdout",
     "output_type": "stream",
     "text": [
      "Removed previous model directory: ./lab_output/best_logistic_regression_model\n",
      "Removed previous pipeline directory: ./lab_output/preprocessing_pipeline\n",
      "Best model saved to: ./lab_output/best_logistic_regression_model\n",
      "Preprocessing pipeline model saved to: ./lab_output/preprocessing_pipeline\n",
      "\n",
      "Loading saved models...\n",
      "Models loaded successfully.\n",
      "AUC of Loaded Model on (preprocessed) Test Data: 0.9005 (should match best CV AUC)\n"
     ]
    }
   ],
   "source": [
    "from pyspark.ml.classification import LogisticRegressionModel\n",
    "from pyspark.ml import PipelineModel\n",
    "import shutil\n",
    "import os\n",
    "\n",
    "# Define paths for saving (use a subfolder)\n",
    "output_base_dir = \"./lab_output\"\n",
    "best_model_path = os.path.join(output_base_dir, \"best_logistic_regression_model\")\n",
    "pipeline_path = os.path.join(output_base_dir, \"preprocessing_pipeline\")\n",
    "\n",
    "# Create base directory if it doesn't exist\n",
    "os.makedirs(output_base_dir, exist_ok=True)\n",
    "\n",
    "# Clean up previous saves if they exist (optional but recommended)\n",
    "try:\n",
    "    if os.path.exists(best_model_path):\n",
    "        shutil.rmtree(best_model_path)\n",
    "        print(f\"Removed previous model directory: {best_model_path}\")\n",
    "    if os.path.exists(pipeline_path):\n",
    "        shutil.rmtree(pipeline_path)\n",
    "        print(f\"Removed previous pipeline directory: {pipeline_path}\")\n",
    "except OSError as e:\n",
    "    print(f\"Error removing directories: {e}\")\n",
    "\n",
    "# Save the best Logistic Regression model found via CV\n",
    "best_lr_model_from_cv.write().overwrite().save(best_model_path)\n",
    "print(f\"Best model saved to: {best_model_path}\")\n",
    "\n",
    "# Save the *fitted* preprocessing pipeline model (not the unfitted pipeline)\n",
    "preprocessing_model.write().overwrite().save(pipeline_path)\n",
    "print(f\"Preprocessing pipeline model saved to: {pipeline_path}\")\n",
    "\n",
    "# --- Example: Loading the models --- \n",
    "print(\"\\nLoading saved models...\")\n",
    "loaded_lr_model = LogisticRegressionModel.load(best_model_path)\n",
    "loaded_pipeline_model = PipelineModel.load(pipeline_path)\n",
    "print(\"Models loaded successfully.\")\n",
    "\n",
    "# --- Verification (Optional) --- \n",
    "# To verify, you would typically load new raw data (or use the original test split df)\n",
    "# Apply the loaded_pipeline_model, then apply the loaded_lr_model\n",
    "\n",
    "# Example using the existing test_data (already processed):\n",
    "loaded_predictions_check = loaded_lr_model.transform(test_data) \n",
    "loaded_auc_check = binary_evaluator_auc.evaluate(loaded_predictions_check)\n",
    "print(f\"AUC of Loaded Model on (preprocessed) Test Data: {loaded_auc_check:.4f} (should match best CV AUC)\")\n",
    "\n",
    "# Example using raw test data (if you kept a split before preprocessing)\n",
    "# raw_test_data = ... # Load or retrieve raw test data split\n",
    "# processed_test_from_loaded_pipeline = loaded_pipeline_model.transform(raw_test_data)\n",
    "# final_predictions_from_loaded = loaded_lr_model.transform(processed_test_from_loaded_pipeline.select('label', 'features'))\n",
    "# loaded_auc_raw = binary_evaluator_auc.evaluate(final_predictions_from_loaded)\n",
    "# print(f\"AUC using loaded pipeline and model on raw test data: {loaded_auc_raw:.4f}\")"
   ]
  },
  {
   "cell_type": "markdown",
   "id": "8ab54855",
   "metadata": {},
   "source": [
    "<a id='task-6-hands-on-challenge'></a>\\n<a id='task-6'></a>\n",
    "## Task 6: Hands-on Challenge\n",
    "\n",
    "Now it's your turn! Apply the concepts learned to improve the model or explore alternative approaches.\n",
    "\n",
    "**Choose at least one of the following challenges:**\n",
    "\n",
    "1.  **Feature Engineering Exploration:**\n",
    "    * **Interaction Feature:** Create a new feature representing the interaction between `age` and `education_num`. Add this to your feature vector using `VectorAssembler` and retrain/reevaluate the *best* Logistic Regression model from the cross-validation step (or retune if needed). Does this interaction improve performance?\n",
    "        *Hint: Use `df.withColumn('age_x_edu', F.col('age') * F.col('education_num'))`*\n",
    "    * **Feature Scaling:** Add `StandardScaler` to the preprocessing pipeline *after* the `VectorAssembler` stage to scale the combined feature vector. Retrain and reevaluate the best Logistic Regression model. Compare its performance (AUC, F1-score) to the unscaled version. *Does scaling significantly impact Logistic Regression here? Why might scaling be more important for other algorithms or if regularization is heavily used?*\n",
    "    * **Binning:** Use `Bucketizer` to transform the continuous `age` feature into discrete age groups (e.g., <25, 25-40, 40-60, >60). Replace the original `age` and `age_square` features with the binned feature (after one-hot encoding it) in the `VectorAssembler`. Retrain and evaluate. How does this compare?\n",
    "\n",
    "2.  **Alternative Algorithm: Random Forest:**\n",
    "    * Replace `LogisticRegression` in the cross-validation setup with `RandomForestClassifier` from `pyspark.ml.classification`.\n",
    "    * Define an appropriate `ParamGridBuilder` for `RandomForestClassifier`. Key hyperparameters to tune include `numTrees`, `maxDepth`, and potentially `featureSubsetStrategy`.\n",
    "    * Run the `CrossValidator` to find the best Random Forest model.\n",
    "    * Evaluate the best Random Forest model on the test set and compare its AUC and F1-score to the best Logistic Regression model. Which performs better on this dataset?\n",
    "\n",
    "3.  **In-Depth Evaluation:**\n",
    "    * For the *best* model found (either your improved LR, the Random Forest, or the original best LR from CV), calculate and display the **Confusion Matrix** on the test set. You can achieve this by:\n",
    "        * Selecting `label` and `prediction` columns.\n",
    "        * Using `groupBy('label', 'prediction').count()`.\n",
    "        * Collecting the results (`.collect()` or `.toPandas()`) and formatting them into a 2x2 matrix.\n",
    "    * Based on the confusion matrix, calculate **Precision** and **Recall** specifically for the positive class (predicting '>50K', which usually corresponds to label 1.0 after indexing). Compare these metrics between the initial LR model and the best model from CV.\n",
    "\n",
    "**Present your findings:** Add Markdown cells explaining the steps you took for your chosen challenge(s), display the code and results, and provide a brief analysis comparing your results to the baseline (the tuned Logistic Regression model developed earlier in the lab)."
   ]
  },
  {
   "cell_type": "code",
   "execution_count": null,
   "id": "0f559e66",
   "metadata": {
    "jupyter": {
     "source_hidden": false
    }
   },
   "outputs": [],
   "source": [
    "# --- CHALLENGE IMPLEMENTATION SPACE --- \n",
    "\n",
    "print(\"Implement your chosen challenge(s) here.\")\n",
    "\n",
    "# Example Structure (if trying Random Forest):\n",
    "\n",
    "# from pyspark.ml.classification import RandomForestClassifier\n",
    "# \n",
    "# # 1. Define Estimator\n",
    "# rf = RandomForestClassifier(labelCol=\"label\", featuresCol=\"features\", seed=seed)\n",
    "# \n",
    "# # 2. Define ParamGrid\n",
    "# rf_param_grid = ParamGridBuilder() \\\n",
    "#     .addGrid(rf.numTrees, [20, 50]) \\\n",
    "#     .addGrid(rf.maxDepth, [5, 10]) \\\n",
    "#     .addGrid(rf.featureSubsetStrategy, ['sqrt', 'log2']) \\\n",
    "#     .build()\n",
    "# \n",
    "# # 3. Define Evaluator (can reuse binary_evaluator_auc)\n",
    "# \n",
    "# # 4. Define CrossValidator\n",
    "# rf_cv = CrossValidator(estimator=rf,\n",
    "#                      estimatorParamMaps=rf_param_grid,\n",
    "#                      evaluator=binary_evaluator_auc,\n",
    "#                      numFolds=num_folds, # Use same number of folds\n",
    "#                      parallelism=4,\n",
    "#                      seed=seed)\n",
    "# \n",
    "# print(\"\\nStarting RandomForest Cross-Validation...\")\n",
    "# # 5. Fit the model\n",
    "# rf_cv_model = rf_cv.fit(train_data)\n",
    "# print(\"RandomForest Cross-Validation complete.\")\n",
    "# \n",
    "# # 6. Evaluate the best RF model\n",
    "# best_rf_model = rf_cv_model.bestModel\n",
    "# rf_predictions = best_rf_model.transform(test_data)\n",
    "# rf_auc = binary_evaluator_auc.evaluate(rf_predictions)\n",
    "# rf_f1 = multi_evaluator.evaluate(rf_predictions, {multi_evaluator.metricName: \"f1\"})\n",
    "# \n",
    "# print(f\"\\n--- Random Forest Results ---\")\n",
    "# print(f\"Best RF Model AUC: {rf_auc:.4f}\")\n",
    "# print(f\"Best RF Model F1-Score: {rf_f1:.4f}\")\n",
    "# \n",
    "# # Compare with best LR model\n",
    "# print(f\"\\n--- Comparison ---\")\n",
    "# print(f\"Best Logistic Regression AUC: {best_cv_auc:.4f}\")\n",
    "# print(f\"Best Logistic Regression F1-Score: {best_cv_f1:.4f}\")\n",
    "# print(f\"Best Random Forest AUC: {rf_auc:.4f}\")\n",
    "# print(f\"Best Random Forest F1-Score: {rf_f1:.4f}\")\n",
    "# \n",
    "# # Print best RF params\n",
    "# rf_best_params = best_rf_model.extractParamMap()\n",
    "# print(\"\\nBest RandomForest Hyperparameters found:\")\n",
    "# for param, value in rf_best_params.items():\n",
    "#     if param.name in ['numTrees', 'maxDepth', 'featureSubsetStrategy']:\n",
    "#          print(f\"  - {param.name}: {value}\")\n",
    "\n",
    "# --- Add your code for other challenges below ---"
   ]
  },
  {
   "cell_type": "markdown",
   "id": "6810526b",
   "metadata": {},
   "source": [
    "<a id='lab-conclusion'></a>\\n<a id='conclusion'></a>\n",
    "## Lab Conclusion\n",
    "\n",
    "In this lab, you gained hands-on experience with the Spark MLlib library, covering essential steps in a machine learning workflow:\n",
    "\n",
    "* **Data Loading & Exploration:** Used Spark DataFrames to load, inspect, clean column names, check for missing values, and understand the dataset.\n",
    "* **Feature Engineering:** Transformed raw data into features suitable for machine learning models, including handling categorical variables and creating polynomial features.\n",
    "* **ML Pipelines:** Constructed a reusable pipeline to encapsulate preprocessing steps, ensuring consistency between training and prediction.\n",
    "* **Model Training:** Trained a Logistic Regression classifier and potentially others (like Random Forest).\n",
    "* **Evaluation:** Assessed model performance using AUC and other standard classification metrics (Accuracy, Precision, Recall, F1-score).\n",
    "* **Hyperparameter Tuning:** Optimized model hyperparameters effectively using `ParamGridBuilder` and `CrossValidator`.\n",
    "* **Model Persistence:** Learned how to save and load trained models and pipelines for future use.\n",
    "\n",
    "These techniques form the foundation for building robust and scalable machine learning applications using Apache Spark, enabling you to handle large datasets effectively."
   ]
  },
  {
   "cell_type": "code",
   "execution_count": null,
   "id": "c63b8d9b",
   "metadata": {},
   "outputs": [],
   "source": [
    "# Stop the SparkSession to release resources\n",
    "print(\"\\nStopping Spark Session...\")\n",
    "spark.stop()\n",
    "print(\"Spark Session stopped.\")"
   ]
  }
 ],
 "metadata": {
  "colab": {
   "name": "Enhanced_SparkML_Lab_Interactive.ipynb",
   "provenance": []
  },
  "kernelspec": {
   "display_name": "Python 3 (ipykernel)",
   "language": "python",
   "name": "python3"
  },
  "language_info": {
   "codemirror_mode": {
    "name": "ipython",
    "version": 3
   },
   "file_extension": ".py",
   "mimetype": "text/x-python",
   "name": "python",
   "nbconvert_exporter": "python",
   "pygments_lexer": "ipython3",
   "version": "3.11.10"
  }
 },
 "nbformat": 4,
 "nbformat_minor": 5
}
